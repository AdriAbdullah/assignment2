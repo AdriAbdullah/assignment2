{
  "nbformat": 4,
  "nbformat_minor": 0,
  "metadata": {
    "colab": {
      "provenance": [],
      "authorship_tag": "ABX9TyOW7pgB9nGYOc/t+AA2IlTA",
      "include_colab_link": true
    },
    "kernelspec": {
      "name": "python3",
      "display_name": "Python 3"
    },
    "language_info": {
      "name": "python"
    }
  },
  "cells": [
    {
      "cell_type": "markdown",
      "metadata": {
        "id": "view-in-github",
        "colab_type": "text"
      },
      "source": [
        "<a href=\"https://colab.research.google.com/github/AdriAbdullah/assignment2/blob/master/ASSIGNMENT2.ipynb\" target=\"_parent\"><img src=\"https://colab.research.google.com/assets/colab-badge.svg\" alt=\"Open In Colab\"/></a>"
      ]
    },
    {
      "cell_type": "code",
      "source": [
        "class Family:\n",
        "    \"\"\"Base class representing a family\"\"\"\n",
        "    def __init__(self, family_name, num_adults, num_children):\n",
        "        self.family_name = family_name\n",
        "        self.num_adults = num_adults\n",
        "        self.num_children = num_children\n",
        "\n",
        "class Destination:\n",
        "    \"\"\"Encapsulates destination details\"\"\"\n",
        "    destinations = {\n",
        "        1: (\"Lake District\", 200, 1500),\n",
        "        2: (\"Loch Lomond and Trossachs\", 180, 1700),\n",
        "        3: (\"Eyri (Snowdonia)\", 220, 1600)\n",
        "    }\n",
        "\n",
        "    def __init__(self, option):\n",
        "        if option in self.destinations:\n",
        "            self.name, self.transport_cost, self.accommodation_cost = self.destinations[option]\n",
        "        else:\n",
        "            raise ValueError(\"Invalid destination option\")\n",
        "\n",
        "class VacationCostCalculator(Family):\n",
        "    \"\"\"Handles cost calculations\"\"\"\n",
        "    EXCHANGE_RATE = 5.9\n",
        "\n",
        "    def __init__(self, family_name, num_adults, num_children, destination_option):\n",
        "        super().__init__(family_name, num_adults, num_children)\n",
        "        self.destination = Destination(destination_option)\n",
        "\n",
        "    def calculate_total_cost(self):\n",
        "        \"\"\"Calculate total transportation and accommodation costs\"\"\"\n",
        "        transport_cost = (self.num_adults * self.destination.transport_cost) + \\\n",
        "                         (self.num_children * self.destination.transport_cost * 0.5)\n",
        "\n",
        "        discount_adult = 0.3 if self.num_adults == 2 else (0.4 if self.num_adults >= 3 else 0)\n",
        "        accommodation_cost = (self.num_adults * self.destination.accommodation_cost * (1 - discount_adult)) + \\\n",
        "                             (self.num_children * self.destination.accommodation_cost * 0.5)\n",
        "\n",
        "        total_cost_gbp = transport_cost + accommodation_cost\n",
        "        total_cost_myr = total_cost_gbp * self.EXCHANGE_RATE\n",
        "        return total_cost_gbp, total_cost_myr\n",
        "\n",
        "    def display_summary(self):\n",
        "        \"\"\"Display total cost details\"\"\"\n",
        "        total_gbp, total_myr = self.calculate_total_cost()\n",
        "        print(f\"\\nFamily: {self.family_name}\")\n",
        "        print(f\"Destination: {self.destination.name}\")\n",
        "        print(f\"Total Cost (GBP): {total_gbp:.2f}\")\n",
        "        print(f\"Total Cost (MYR): {total_myr:.2f}\\n\")\n",
        "\n",
        "def main():\n",
        "    families = []\n",
        "\n",
        "    while True:\n",
        "        family_name = input(\"Enter family last name: \")\n",
        "        try:\n",
        "            destination_option = int(input(\"Enter destination option (1-3): \"))\n",
        "            num_adults = int(input(\"Enter number of adults: \"))\n",
        "            num_children = int(input(\"Enter number of children: \"))\n",
        "\n",
        "            family = VacationCostCalculator(family_name, num_adults, num_children, destination_option)\n",
        "            families.append(family)\n",
        "\n",
        "        except ValueError:\n",
        "            print(\"Invalid input, please try again.\")\n",
        "\n",
        "        more_families = input(\"Do you want to enter another family? (yes/no): \").strip().lower()\n",
        "        if more_families != 'yes':\n",
        "            break\n",
        "\n",
        "    print(\"\\n===== Vacation Cost Summary =====\")\n",
        "    for family in families:\n",
        "        family.display_summary()\n",
        "\n",
        "if __name__ == \"__main__\":\n",
        "    main()\n"
      ],
      "metadata": {
        "colab": {
          "base_uri": "https://localhost:8080/"
        },
        "id": "KpEI4dlMFnCc",
        "outputId": "c08f277c-c976-42fc-8343-73c20029fe82"
      },
      "execution_count": 3,
      "outputs": [
        {
          "output_type": "stream",
          "name": "stdout",
          "text": [
            "Enter family last name: adry\n",
            "Enter destination option (1-3): 1\n",
            "Enter number of adults: 2\n",
            "Enter number of children: 3\n",
            "Do you want to enter another family? (yes/no): yes\n",
            "Enter family last name: addinna\n",
            "Enter destination option (1-3): 2\n",
            "Enter number of adults: 4\n",
            "Enter number of children: 5\n",
            "Do you want to enter another family? (yes/no): yes\n",
            "Enter family last name: haziq\n",
            "Enter destination option (1-3): 3\n",
            "Enter number of adults: 6\n",
            "Enter number of children: 8\n",
            "Do you want to enter another family? (yes/no): no\n",
            "\n",
            "===== Vacation Cost Summary =====\n",
            "\n",
            "Family: adry\n",
            "Destination: Lake District\n",
            "Total Cost (GBP): 5050.00\n",
            "Total Cost (MYR): 29795.00\n",
            "\n",
            "\n",
            "Family: addinna\n",
            "Destination: Loch Lomond and Trossachs\n",
            "Total Cost (GBP): 9500.00\n",
            "Total Cost (MYR): 56050.00\n",
            "\n",
            "\n",
            "Family: haziq\n",
            "Destination: Eyri (Snowdonia)\n",
            "Total Cost (GBP): 14360.00\n",
            "Total Cost (MYR): 84724.00\n",
            "\n"
          ]
        }
      ]
    }
  ]
}